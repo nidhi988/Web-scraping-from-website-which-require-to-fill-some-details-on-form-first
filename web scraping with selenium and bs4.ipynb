{
 "cells": [
  {
   "cell_type": "code",
   "execution_count": 25,
   "metadata": {},
   "outputs": [],
   "source": [
    "import requests"
   ]
  },
  {
   "cell_type": "code",
   "execution_count": 28,
   "metadata": {},
   "outputs": [],
   "source": [
    "payload={'Search_FSP_No':'1'}\n",
    "post_response = requests.post(url='https://www.fsca.co.za/Fais/Search_FSP.htm', data=payload)\n",
    "print post_response"
   ]
  },
  {
   "cell_type": "code",
   "execution_count": 29,
   "metadata": {},
   "outputs": [],
   "source": [
    "post_response.text"
   ]
  },
  {
   "cell_type": "code",
   "execution_count": 30,
   "metadata": {},
   "outputs": [],
   "source": [
    "import urllib2"
   ]
  },
  {
   "cell_type": "code",
   "execution_count": 31,
   "metadata": {},
   "outputs": [],
   "source": [
    "import pandas as pd\n",
    "from bs4 import BeautifulSoup\n",
    "    "
   ]
  },
  {
   "cell_type": "code",
   "execution_count": 32,
   "metadata": {},
   "outputs": [],
   "source": [
    "#specify the url\n",
    "html = \"https://www.fsca.co.za/MagicScripts/mgrqispi.dll\""
   ]
  },
  {
   "cell_type": "code",
   "execution_count": 33,
   "metadata": {},
   "outputs": [],
   "source": [
    "from selenium import webdriver"
   ]
  },
  {
   "cell_type": "code",
   "execution_count": 34,
   "metadata": {},
   "outputs": [],
   "source": [
    "driver = webdriver.Chrome(\"C:\\\\chromedriver_win32\\\\chromedriver.exe\")"
   ]
  },
  {
   "cell_type": "code",
   "execution_count": 35,
   "metadata": {},
   "outputs": [],
   "source": [
    "Physical_Address=[] #List to store name of the product\n",
    "Telephone_No=[] #List to store price of the product\n",
    "Contact_Person=[] #List to store rating of the product\n",
    "Contact_Person_No=[]\n",
    "driver.get(\"https://www.fsca.co.za/MagicScripts/mgrqispi.dll\")\n"
   ]
  },
  {
   "cell_type": "code",
   "execution_count": 36,
   "metadata": {},
   "outputs": [],
   "source": [
    "content = driver.page_source"
   ]
  },
  {
   "cell_type": "code",
   "execution_count": 37,
   "metadata": {},
   "outputs": [],
   "source": [
    "soup = BeautifulSoup(content)"
   ]
  },
  {
   "cell_type": "code",
   "execution_count": 38,
   "metadata": {},
   "outputs": [],
   "source": [
    "for a in soup.findAll('div',attrs={'class':'switchcontent'}):\n",
    "    Address=a.find('td', attrs={'class':'noborderText'})\n",
    "    Telephone=a.find('td', attrs={'class':'noborderText'})\n",
    "    ContactPerson=a.find('td', attrs={'class':'noborderText'})\n",
    "    ContactPersonNo=a.find('td',attrs={'class':'noborderText'})\n",
    "    Physical_Address.append(Address.text)\n",
    "    Telephone_No.append(Telephone.text)\n",
    "    Contact_Person.append(ContactPerson.text)\n",
    "    Contact_Person_No.append(ContactPersonNo.text)"
   ]
  },
  {
   "cell_type": "code",
   "execution_count": 39,
   "metadata": {},
   "outputs": [],
   "source": [
    "df = pd.DataFrame({'addresses':Physical_Address,'telephone_no':Telephone_No,'contact_person':Contact_Person,'contact_person_no':Contact_Person_No}) "
   ]
  },
  {
   "cell_type": "code",
   "execution_count": null,
   "metadata": {},
   "outputs": [],
   "source": []
  }
 ],
 "metadata": {
  "kernelspec": {
   "display_name": "Python 2",
   "language": "python",
   "name": "python2"
  },
  "language_info": {
   "codemirror_mode": {
    "name": "ipython",
    "version": 2
   },
   "file_extension": ".py",
   "mimetype": "text/x-python",
   "name": "python",
   "nbconvert_exporter": "python",
   "pygments_lexer": "ipython2",
   "version": "2.7.17"
  }
 },
 "nbformat": 4,
 "nbformat_minor": 2
}
